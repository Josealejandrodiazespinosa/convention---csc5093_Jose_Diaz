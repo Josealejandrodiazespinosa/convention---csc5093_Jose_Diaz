{
 "cells": [
  {
   "cell_type": "markdown",
   "id": "23531dd4-24d5-4b3c-adf9-c58013d06350",
   "metadata": {},
   "source": [
    "# Dataset Overview\n",
    "\n",
    "This notebook provides a description of four datasets across different categories: Personal, Government, Commercial, and Educational. Each dataset was selected for its relevance and analytical potential.\n",
    "\n",
    "## 1. Personal Dataset: Personal Financial Transactions\n",
    "\n",
    "- **Description**: This dataset includes personal financial transactions categorized by type, date, and account. It captures spending habits and aids in budgeting.\n",
    "- **Source**: Kaggle (sample personal transaction data).\n",
    "- **Rationale**: Analyzing personal financial data provides insights into budgeting and spending habits. It’s useful for observing personal spending trends.\n",
    "\n",
    "## 2. Government Dataset: Monthly Transportation Statistics\n",
    "\n",
    "- **Description**: This dataset contains monthly statistics on various aspects of transportation, such as road fatalities, air traffic, and public transit.\n",
    "- **Source**: Kaggle (public data from government agencies).\n",
    "- **Rationale**: Government transportation data is valuable for policy-making and infrastructure planning. Analyzing these trends helps to understand safety measures and public transit usage.\n",
    "\n",
    "## 3. Commercial Dataset: Walmart Sales\n",
    "\n",
    "- **Description**: Weekly sales data from Walmart stores, including information on sales, holidays, fuel prices, Consumer Price Index (CPI), and unemployment.\n",
    "- **Source**: Kaggle (Walmart sales data).\n",
    "- **Rationale**: Commercial data is essential for businesses to understand customer behavior and optimize inventory. Analyzing Walmart's sales data provides insights into the impact of external factors on retail sales.\n",
    "\n",
    "## 4. Educational Dataset: Human Activity Recognition\n",
    "\n",
    "- **Description**: Accelerometer readings from smartphones for different activities such as walking, jogging, and sitting. Useful for classification tasks in machine learning.\n",
    "- **Source**: Kaggle (WISDM Activity Prediction dataset from Fordham University).\n",
    "- **Rationale**: This dataset is useful for learning predictive modeling and classification techniques. It illustrates how sensor data can be used to classify human activities.\n"
   ]
  }
 ],
 "metadata": {
  "kernelspec": {
   "display_name": "Python 3 (ipykernel)",
   "language": "python",
   "name": "python3"
  },
  "language_info": {
   "codemirror_mode": {
    "name": "ipython",
    "version": 3
   },
   "file_extension": ".py",
   "mimetype": "text/x-python",
   "name": "python",
   "nbconvert_exporter": "python",
   "pygments_lexer": "ipython3",
   "version": "3.13.0"
  }
 },
 "nbformat": 4,
 "nbformat_minor": 5
}
