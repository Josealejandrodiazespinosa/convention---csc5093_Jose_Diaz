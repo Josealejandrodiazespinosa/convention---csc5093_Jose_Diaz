{
 "cells": [
  {
   "cell_type": "markdown",
   "id": "13c7a440-21b4-41ab-a84d-22bfc60726d4",
   "metadata": {},
   "source": [
    "# My First Notebook\n",
    "\n",
    "This notebook contains:\n",
    "- A Markdown cell with text\n",
    "- A graphic\n",
    "- Python code with simple print statements\n",
    "Press Shift + Enter to execute the cell and display the formatted text."
   ]
  },
  {
   "cell_type": "markdown",
   "id": "31c55c84-8a72-4a83-a838-9660e020ace4",
   "metadata": {},
   "source": [
    "print(\"Hello, world!\")\n",
    "print(\"This is my first Jupyter Notebook on Mac.\")"
   ]
  },
  {
   "cell_type": "markdown",
   "id": "4b7aef2e-85a7-4677-acc9-74045fa52566",
   "metadata": {},
   "source": [
    "![Sample Image](https://www.adverity.com/hubfs/Effective-Data-Visualization-Techniques.png) "
   ]
  },
  {
   "cell_type": "markdown",
   "id": "c65f08b3-7854-49b5-965b-5f36b02735cb",
   "metadata": {},
   "source": [
    "print(\"Hello, world!\")\n",
    "print(\"This is my first Jupyter Notebook on Mac.\")"
   ]
  },
  {
   "cell_type": "code",
   "execution_count": null,
   "id": "77484c1e-f867-4c1f-8b07-e3f27559d214",
   "metadata": {},
   "outputs": [],
   "source": []
  }
 ],
 "metadata": {
  "kernelspec": {
   "display_name": "Python 3 (ipykernel)",
   "language": "python",
   "name": "python3"
  },
  "language_info": {
   "codemirror_mode": {
    "name": "ipython",
    "version": 3
   },
   "file_extension": ".py",
   "mimetype": "text/x-python",
   "name": "python",
   "nbconvert_exporter": "python",
   "pygments_lexer": "ipython3",
   "version": "3.13.0"
  }
 },
 "nbformat": 4,
 "nbformat_minor": 5
}
